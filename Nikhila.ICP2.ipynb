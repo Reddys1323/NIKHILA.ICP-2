{
 "cells": [
  {
   "cell_type": "code",
   "execution_count": null,
   "metadata": {
    "id": "Ne9sNQzHkxsh"
   },
   "outputs": [],
   "source": []
  },
  {
   "cell_type": "code",
   "execution_count": 1,
   "metadata": {
    "colab": {
     "base_uri": "https://localhost:8080/"
    },
    "id": "D8teMCCKlNCs",
    "outputId": "a71997e9-e1cf-45f2-db93-a45814db1c95"
   },
   "outputs": [
    {
     "name": "stdout",
     "output_type": "stream",
     "text": [
      "Enter your first name\n",
      "Nikhila\n",
      "Enter your last name\n",
      "Gaddam\n",
      "your full name is\n",
      "Nikhila Gaddam\n"
     ]
    }
   ],
   "source": [
    "print(\"Enter your first name\")\n",
    "first_name = str(input())\n",
    "print(\"Enter your last name\")\n",
    "last_name = str(input())\n",
    "print(\"your full name is\")\n",
    "full_name = first_name + \" \" + last_name\n",
    "print(full_name)"
   ]
  },
  {
   "cell_type": "code",
   "execution_count": 2,
   "metadata": {
    "colab": {
     "base_uri": "https://localhost:8080/"
    },
    "id": "syXUp4hbuK2l",
    "outputId": "97ac7ddd-7fe3-4895-eb3f-b695e5c6f93c"
   },
   "outputs": [
    {
     "name": "stdout",
     "output_type": "stream",
     "text": [
      "Go vnn\n"
     ]
    }
   ],
   "source": [
    "def string_alternative(x):\n",
    "  return x[::]\n",
    "\n",
    "mytxt = string_alternative(\"Good evening\")\n",
    "\n",
    "print(mytxt[::2])"
   ]
  },
  {
   "cell_type": "code",
   "execution_count": 2,
   "metadata": {
    "colab": {
     "base_uri": "https://localhost:8080/"
    },
    "id": "BimrYjP-vVzv",
    "outputId": "b7e39040-5a25-4343-c8e1-ebb368a02ab0"
   },
   "outputs": [
    {
     "name": "stdout",
     "output_type": "stream",
     "text": [
      "{'Python': 1, 'Course': 2, 'Deep': 1, 'Learning': 1}\n"
     ]
    }
   ],
   "source": [
    "def word_count(str):\n",
    "    counts = dict()\n",
    "    words = str.split()\n",
    "\n",
    "    for word in words:\n",
    "        if word in counts:\n",
    "            counts[word] += 1\n",
    "        else:\n",
    "            counts[word] = 1\n",
    "\n",
    "    return counts\n",
    "with open('sample.txt', 'r') as file1:\n",
    "  FileContent = file1.read()\n",
    "  print(word_count(FileContent))\n",
    "\n"
   ]
  },
  {
   "cell_type": "code",
   "execution_count": 2,
   "metadata": {
    "colab": {
     "base_uri": "https://localhost:8080/"
    },
    "id": "yybDqke45kLf",
    "outputId": "26fd9c64-8f7b-40d9-9b41-faf2ed28afbd"
   },
   "outputs": [
    {
     "name": "stdout",
     "output_type": "stream",
     "text": [
      "Enter number of elements : 3\n",
      "100\n",
      "145\n",
      "125\n",
      "[100, 145, 125]\n",
      "[254.0, 368.3, 317.5]\n"
     ]
    }
   ],
   "source": [
    "# creating an empty list\n",
    "import numpy as np\n",
    "mylst = []\n",
    "  \n",
    "# number of elements as input\n",
    "n = int(input(\"Enter number of elements : \"))\n",
    "  \n",
    "# iterating till the range\n",
    "for i in range(0, n):\n",
    "    ele = int(input())\n",
    "  \n",
    "    mylst.append(ele) # adding the element\n",
    "      \n",
    "print(mylst)\n",
    "lyst = mylst\n",
    "result = 2.54\n",
    "for x in lyst:\n",
    " h_cm = np.array(lyst) * result\n",
    " new_list = list(h_cm)\n",
    "print(new_list)"
   ]
  },
  {
   "cell_type": "code",
   "execution_count": null,
   "metadata": {},
   "outputs": [],
   "source": []
  }
 ],
 "metadata": {
  "colab": {
   "provenance": []
  },
  "kernelspec": {
   "display_name": "Python 3 (ipykernel)",
   "language": "python",
   "name": "python3"
  },
  "language_info": {
   "codemirror_mode": {
    "name": "ipython",
    "version": 3
   },
   "file_extension": ".py",
   "mimetype": "text/x-python",
   "name": "python",
   "nbconvert_exporter": "python",
   "pygments_lexer": "ipython3",
   "version": "3.9.13"
  }
 },
 "nbformat": 4,
 "nbformat_minor": 1
}
